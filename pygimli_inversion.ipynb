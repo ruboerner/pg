{
 "cells": [
  {
   "cell_type": "markdown",
   "id": "stuffed-radiation",
   "metadata": {},
   "source": [
    "# Inversion geoelektrischer Profilmessungen mit `pyGIMLi` \n",
    "\n",
    "Das Ziel der Inversion besteht in der Rekonstruktion der räumlichen Verteilung der spezifischen Widerstände im Untergrund.\n",
    "Grundlage bilden die gemessenen Daten, in der Regel sind das Ohmsche Widerstände $R(L)$ in $\\Omega$ oder scheinbare spezifische Widerstände $\\rho_s(L)$ in $\\Omega\\cdot m$.\n",
    "Sämtliche Messwerte sind abhängig vom Ort und der geoelektrischen Elektrodenkonfiguration (hier durch $L$ gekennzeichnet).\n",
    "\n",
    "### Installation\n",
    "\n",
    "Bei `pyGIMLi` handelt es sich um eine Python-Bibliothek.\n",
    "Wir setzen voraus, dass eine Python-Umgebung bereits installiert ist.\n",
    "Am einfachsten funktioniert [*anaconda*](https://www.anaconda.com/products/individual).\n",
    "\n",
    "Zunächst muss `pyGIMLi` installiert werden, damit unter Python darauf zugegriffen werden kann.\n",
    "Das geschieht mit `conda`:\n",
    "```shell\n",
    "conda install -c gimli -c conda-forge pygimli=1.2.2\n",
    "```\n",
    "\n",
    "### Vorbereitung\n",
    "\n",
    "Wir importieren die beiden Bibliotheken `pygimli` und `numpy`."
   ]
  },
  {
   "cell_type": "code",
   "execution_count": null,
   "id": "working-terry",
   "metadata": {},
   "outputs": [],
   "source": [
    "import pygimli as pg\n",
    "import numpy as np\n",
    "from pygimli.physics.ert import ERTManager"
   ]
  },
  {
   "cell_type": "markdown",
   "id": "medical-output",
   "metadata": {},
   "source": [
    "# Das Datenformat\n",
    "\n",
    "`pyGIMLi` erwartet die geoelektrischen Messwerte in einem speziellen Dateiformat, dem *Unified Data Format* [(Beschreibung auf der Projektseite von BERT)](https://gitlab.com/resistivity-net/bert#the-unified-data-format).\n",
    "Es handelt sich um ASCII-Dateien, welche mit allen gängigen Texteditoren editiert werden können.\n",
    "\n",
    "Eine solche Messwertdatei enthält folgende Abschnitte:\n",
    "- Anzahl der Elektroden sowie Koordinaten (Lage und Höhe) der Elektroden mit impliziter Nummerierung\n",
    "- Anzahl der Messwerte sowie die sich jeweils aus der Kombination von zwei bis vier Elektroden ergebenden Daten\n",
    "\n",
    "Das Beispiel zeigt einen kleinen Datensatz mit 6 Elektroden und 6 Einzelmessungen in der Konfiguration *Dipol-Dipol* (erkennbar an der Reihenfolge *a b m n* der Elektroden und Sonden).\n",
    "Die 5. Spalte des Datenblocks enthält den scheinbaren spezifischen Widerstand (`rhoa`) in $\\Omega\\cdot m$.\n",
    "\n",
    "```text\n",
    "6# Number of electrodes\n",
    "# x z position for each electrode\n",
    "0     0\n",
    "1     0\n",
    "2     0 # loose ground\n",
    "3     0\n",
    "4     0\n",
    "5     0\n",
    "6# Number of data\n",
    "# a b m n rhoa\n",
    "1   2   3   4  231.2\n",
    "2   3   4   5  256.7\n",
    "3   4   5   6  312.8 \n",
    "1   2   4   5  12.1 # possibly an outlier\n",
    "2   3   5   6  199.7\n",
    "1   2   5   6  246.2\n",
    "```"
   ]
  },
  {
   "cell_type": "markdown",
   "id": "reasonable-logging",
   "metadata": {},
   "source": [
    "## Inversion eines echten Datensatzes\n",
    "Wir verwenden für dieses Beispiel Daten einer Messung auf dem Campusgelände der TU Bergakademie Freiberg. Der \"Erzgang\" ist aus dem Grundlagenpraktikum bereits bekannt (Versuch *Elektromagnetische Kartierung*).\n",
    "\n",
    "Die Profilmessung wurde mit den Konfigurationen *Wenner*, *Dipol-Dipol* und *Pol-Dipol* mit 21 Elektroden durchgeführt.\n",
    "\n",
    "Der Dipol-Dipol-Datensatz besteht aus 93, der Pol-Dipol-Datensatz aus 99 und der Wenner-Datensatz aus 63 Einzelmessungen.\n",
    "\n",
    "Die Python-Objekte `dipoldipol`, `wenner` und `poldipol` enthalten sämtliche gemessenen Daten:"
   ]
  },
  {
   "cell_type": "code",
   "execution_count": null,
   "id": "complimentary-scholar",
   "metadata": {},
   "outputs": [],
   "source": [
    "wenner = pg.load(\"erzw_2021.dat\")\n",
    "print(wenner)"
   ]
  },
  {
   "cell_type": "code",
   "execution_count": null,
   "id": "f45218bb",
   "metadata": {},
   "outputs": [],
   "source": [
    "dipoldipol = pg.load(\"erzd_2021.dat\")\n",
    "print(dipoldipol)"
   ]
  },
  {
   "cell_type": "code",
   "execution_count": null,
   "id": "cleared-digit",
   "metadata": {},
   "outputs": [],
   "source": [
    "poldipol = pg.load(\"erzp_2021.dat\")\n",
    "print(poldipol)"
   ]
  },
  {
   "cell_type": "markdown",
   "id": "c4e23270",
   "metadata": {},
   "source": [
    "Die Datei `all_2021.dat` enthält sämtliche 255 Einzelmessungen als Kombination."
   ]
  },
  {
   "cell_type": "code",
   "execution_count": null,
   "id": "65be47e7",
   "metadata": {},
   "outputs": [],
   "source": [
    "all = pg.load(\"all_2021.dat\")\n",
    "print(all)"
   ]
  },
  {
   "cell_type": "markdown",
   "id": "neural-priority",
   "metadata": {},
   "source": [
    "In der `pyGIMLi`-Methode `ERTManager()` sind alle Funktionen zur Inversion von Geoelektrikdaten (engl. *Electrical Resistivity Tomography*, ERT) implementiert.\n",
    "\n",
    "Die Objekte `ertwenner` bzw. `ertpoldipol` werden u.a. die Modellantwort und die Modellparameter aufnehmen."
   ]
  },
  {
   "cell_type": "code",
   "execution_count": null,
   "id": "radical-heart",
   "metadata": {},
   "outputs": [],
   "source": [
    "ertwenner = ERTManager()\n",
    "ertpoldipol = ERTManager()\n",
    "ertdipoldipol = ERTManager()"
   ]
  },
  {
   "cell_type": "code",
   "execution_count": null,
   "id": "b0046268",
   "metadata": {},
   "outputs": [],
   "source": [
    "ert_all = ERTManager()"
   ]
  },
  {
   "cell_type": "markdown",
   "id": "alert-huntington",
   "metadata": {},
   "source": [
    "Da unsere Datensätze keine Messfehler enthalten, schätzen wir plausible absolute und relative Datenfehler ab.\n",
    "Absolute Fehler sind in in $\\Omega\\cdot m$ angegeben."
   ]
  },
  {
   "cell_type": "code",
   "execution_count": null,
   "id": "exact-seeking",
   "metadata": {},
   "outputs": [],
   "source": [
    "wenner['err'] = ertwenner.estimateError(wenner, absoluteError=0.1, relativeError=0.03)\n",
    "dipoldipol['err'] = ertdipoldipol.estimateError(dipoldipol, absoluteError=0.1, relativeError=0.03)\n",
    "poldipol['err'] = ertpoldipol.estimateError(poldipol, absoluteError=0.1, relativeError=0.03)"
   ]
  },
  {
   "cell_type": "code",
   "execution_count": null,
   "id": "5b2d83d1",
   "metadata": {},
   "outputs": [],
   "source": [
    "all['err'] = ert_all.estimateError(all, absoluteError=0.1, relativeError=0.03)"
   ]
  },
  {
   "cell_type": "markdown",
   "id": "limiting-waters",
   "metadata": {},
   "source": [
    "Die folgende Abbildung zeigt eine *Pseudosektion* der **scheinbaren spezifischen Widerstände** $\\rho_s$.\n",
    "Die Trapezform kommt durch die willkürliche Wahl des horizontalen Bezugspunktes im Profilverlauf für die Wenner- bzw. Pol-Dipol-Anordnung zustande.\n",
    "Die Ordinaten in den beiden folgenden Abbildungen stellen den Elektrodenabstand bei Wenner bzw. die Separation zwischen Strompol und Spannungsdipol bei Pol-Dipol dar.\n",
    "**Es handelt sich nicht um eine Tiefenachse!**"
   ]
  },
  {
   "cell_type": "code",
   "execution_count": null,
   "id": "copyrighted-shooting",
   "metadata": {},
   "outputs": [],
   "source": [
    "ertwenner.showData(wenner, cMap=\"RdBu_r\");"
   ]
  },
  {
   "cell_type": "code",
   "execution_count": null,
   "id": "unexpected-preview",
   "metadata": {},
   "outputs": [],
   "source": [
    "ertdipoldipol.showData(dipoldipol, cMap=\"RdBu_r\");"
   ]
  },
  {
   "cell_type": "code",
   "execution_count": null,
   "id": "3e55a12a",
   "metadata": {},
   "outputs": [],
   "source": [
    "ertpoldipol.showData(poldipol, cMap=\"RdBu_r\");"
   ]
  },
  {
   "cell_type": "code",
   "execution_count": null,
   "id": "b2639856",
   "metadata": {},
   "outputs": [],
   "source": [
    "ert_all.showData(all, cMap=\"RdBu_r\")"
   ]
  },
  {
   "cell_type": "markdown",
   "id": "friendly-telephone",
   "metadata": {},
   "source": [
    "### Dateninversion\n",
    "\n",
    "Die Methode `ert.invert` führt die Inversion der Daten (`data`) für einen festgelegten Regularisierungsparameter $\\lambda$ (`lam=10`) sowie eine maximale Modelltiefe von `paraDepth=10` Metern und einer maximalen Dreiecksgröße der Finiten Elemente von `paraMaxCellSize=1` $m^2$ durch.\n",
    "\n",
    "Die Resultate der Inversionsrechnung -- die Verteilung der spezifischen Widerstände im Untergrund und die Modellantwort -- werden im Objekt `mod` gespeichert.\n",
    "\n",
    "Dem Parameter `lam` wird der Wert des gewählten *Regularisierungsparameters* $\\lambda$ zugeordnet.\n",
    "\n",
    "Bei zu niedrigen Werten von $\\lambda$ äußert sich eine ggf. vorliegende Singularität des Kleinste-Quadrate-Problems durch stark schwankende Werte in der Widerstandsverteilung im Untergrund.\n",
    "Im umgekehrten Fall wird bei zu großem $\\lambda$ die Widerstandsverteilung sehr glatt.\n",
    "\n",
    "Hier können wir ausprobieren, welchen Einfluss der Regularisierungsparameter auf die Lösung unseres Problems hat."
   ]
  },
  {
   "cell_type": "code",
   "execution_count": null,
   "id": "manufactured-rhythm",
   "metadata": {},
   "outputs": [],
   "source": [
    "lam = 10"
   ]
  },
  {
   "cell_type": "code",
   "execution_count": null,
   "id": "internal-hunger",
   "metadata": {},
   "outputs": [],
   "source": [
    "modwenner = ertwenner.invert(wenner, lam=lam, paraDepth=10, paraMaxCellSize=0.5, verbose=False);"
   ]
  },
  {
   "cell_type": "code",
   "execution_count": null,
   "id": "87667183",
   "metadata": {},
   "outputs": [],
   "source": [
    "moddipoldipol = ertdipoldipol.invert(dipoldipol, lam=lam, paraDepth=10, paraMaxCellSize=0.5, verbose=False);"
   ]
  },
  {
   "cell_type": "code",
   "execution_count": null,
   "id": "advised-brooks",
   "metadata": {},
   "outputs": [],
   "source": [
    "modpoldipol = ertpoldipol.invert(poldipol, lam=lam, paraDepth=10, paraMaxCellSize=0.5, verbose=False);"
   ]
  },
  {
   "cell_type": "code",
   "execution_count": null,
   "id": "d78b6f29",
   "metadata": {},
   "outputs": [],
   "source": [
    "mod_all = ert_all.invert(all, lam=lam, paraDepth=10, paraMaxCellSize=0.5, verbose=False);"
   ]
  },
  {
   "cell_type": "markdown",
   "id": "alien-toolbox",
   "metadata": {},
   "source": [
    "Die folgenden Abbildungen veranschaulichen den Zusammenhang zwischen den Modellparametern ($\\rho(\\mathbf r)$) sowie den gemessenen scheinbaren spezifischen Widerständen (`Data`) und der Modellantwort (`Response`)."
   ]
  },
  {
   "cell_type": "code",
   "execution_count": null,
   "id": "tested-steal",
   "metadata": {},
   "outputs": [],
   "source": [
    "ertwenner.showResultAndFit(cMap=\"RdBu_r\");"
   ]
  },
  {
   "cell_type": "code",
   "execution_count": null,
   "id": "628d0f84",
   "metadata": {},
   "outputs": [],
   "source": [
    "ertdipoldipol.showResultAndFit(cMap=\"RdBu_r\");"
   ]
  },
  {
   "cell_type": "code",
   "execution_count": null,
   "id": "simple-specific",
   "metadata": {},
   "outputs": [],
   "source": [
    "ertpoldipol.showResultAndFit(cMap=\"RdBu_r\");"
   ]
  },
  {
   "cell_type": "code",
   "execution_count": null,
   "id": "b9c22c49",
   "metadata": {},
   "outputs": [],
   "source": [
    "ert_all.showResultAndFit(cMap=\"RdBu_r\");"
   ]
  },
  {
   "cell_type": "markdown",
   "id": "offensive-experience",
   "metadata": {},
   "source": [
    "Das Modell kann hier etwas genauer betrachtet werden.\n",
    "Es fällt auf, dass im Bereich der Profilmeter 10-15 eine steil einfallende Zone mit geringerem spezifischen Widerstand auftritt.\n",
    "Das Umgebungsgestein ist Freiberger Gneis.\n",
    "Bei der Störung handelt es sich um eine tonführende Verwitterungszone."
   ]
  },
  {
   "cell_type": "code",
   "execution_count": null,
   "id": "intermediate-pixel",
   "metadata": {},
   "outputs": [],
   "source": [
    "ertwenner.showModel(modwenner, cMap=\"RdBu_r\");"
   ]
  },
  {
   "cell_type": "code",
   "execution_count": null,
   "id": "3470d12f",
   "metadata": {},
   "outputs": [],
   "source": [
    "ertdipoldipol.showModel(moddipoldipol, cMap=\"RdBu_r\");"
   ]
  },
  {
   "cell_type": "code",
   "execution_count": null,
   "id": "ahead-operator",
   "metadata": {},
   "outputs": [],
   "source": [
    "ertpoldipol.showModel(modpoldipol, cMap=\"RdBu_r\");"
   ]
  },
  {
   "cell_type": "code",
   "execution_count": null,
   "id": "9e144b25",
   "metadata": {},
   "outputs": [],
   "source": [
    "ert_all.showModel(mod_all, cMap=\"RdBu_r\");"
   ]
  },
  {
   "cell_type": "markdown",
   "id": "oriental-aurora",
   "metadata": {},
   "source": [
    "Von Interesse ist die Anpassungsgüte, die wir als *misfit* bezeichnen.\n",
    "Dabei wird der relative Fehler zwischen Daten und Modellantwort gebildet.\n",
    "Aufschlussreich ist eine graphische Darstellung dieses Fehlers:"
   ]
  },
  {
   "cell_type": "code",
   "execution_count": null,
   "id": "proof-message",
   "metadata": {},
   "outputs": [],
   "source": [
    "misfitwe = ertwenner.inv.response / wenner['rhoa'] * 100 - 100\n",
    "me = np.max(np.abs(misfitwe))\n",
    "pg.show(wenner, misfitwe, cMap=\"RdBu_r\", cMin=-me, cMax=me, label=\"misfit (%)\");"
   ]
  },
  {
   "cell_type": "code",
   "execution_count": null,
   "id": "88846f3d",
   "metadata": {},
   "outputs": [],
   "source": [
    "misfitdd = ertdipoldipol.inv.response / dipoldipol['rhoa'] * 100 - 100\n",
    "me = np.max(np.abs(misfitdd))\n",
    "pg.show(dipoldipol, misfitdd, cMap=\"RdBu_r\", cMin=-me, cMax=me, label=\"misfit (%)\");"
   ]
  },
  {
   "cell_type": "code",
   "execution_count": null,
   "id": "expired-bronze",
   "metadata": {},
   "outputs": [],
   "source": [
    "misfitpd = ertpoldipol.inv.response / poldipol['rhoa'] * 100 - 100\n",
    "me = np.max(np.abs(misfitpd))\n",
    "pg.show(poldipol, misfitpd, cMap=\"RdBu_r\", cMin=-me, cMax=me, label=\"misfit (%)\");"
   ]
  },
  {
   "cell_type": "code",
   "execution_count": null,
   "id": "bcfdbd81",
   "metadata": {},
   "outputs": [],
   "source": [
    "misfit_all = ert_all.inv.response / all['rhoa'] * 100 - 100\n",
    "me = np.max(np.abs(misfit_all))\n",
    "pg.show(all, misfit_all, cMap=\"RdBu_r\", cMin=-me, cMax=me, label=\"misfit (%)\");"
   ]
  },
  {
   "cell_type": "markdown",
   "id": "defensive-break",
   "metadata": {},
   "source": [
    "Der globale Anpassungsfehler wird mit der $\\chi^2$-Statistik beschrieben und beträgt für Wenner"
   ]
  },
  {
   "cell_type": "code",
   "execution_count": null,
   "id": "abstract-format",
   "metadata": {},
   "outputs": [],
   "source": [
    "ertwenner.inv.chi2()"
   ]
  },
  {
   "cell_type": "markdown",
   "id": "1c709b81",
   "metadata": {},
   "source": [
    "für Dipol-Dipol"
   ]
  },
  {
   "cell_type": "code",
   "execution_count": null,
   "id": "571b3ce1",
   "metadata": {},
   "outputs": [],
   "source": [
    "ertdipoldipol.inv.chi2()"
   ]
  },
  {
   "cell_type": "markdown",
   "id": "heavy-transition",
   "metadata": {},
   "source": [
    "sowie für Pol-Dipol"
   ]
  },
  {
   "cell_type": "code",
   "execution_count": null,
   "id": "unique-requirement",
   "metadata": {},
   "outputs": [],
   "source": [
    "ertpoldipol.inv.chi2()"
   ]
  },
  {
   "cell_type": "code",
   "execution_count": null,
   "id": "43ba5da4",
   "metadata": {},
   "outputs": [],
   "source": [
    "ert_all.inv.chi2()"
   ]
  },
  {
   "cell_type": "markdown",
   "id": "serial-headline",
   "metadata": {},
   "source": [
    "## Diskussion\n",
    "\n",
    "Wir haben gesehen, dass das Inversionsergebnis durch die Wahl verschiedener Parameter beeinflusst werden kann. Vor allem die Datenanpassung und Modelleigenschaften sind betroffen.\n",
    "\n",
    "- Welcher Parameter steuert die Rauhigkeit des Modells?\n",
    "- Welche Konfiguration löst die Störungszone besser auf?"
   ]
  }
 ],
 "metadata": {
  "@webio": {
   "lastCommId": null,
   "lastKernelId": null
  },
  "kernelspec": {
   "display_name": "Python [conda env:pg] *",
   "language": "python",
   "name": "conda-env-pg-py"
  },
  "language_info": {
   "codemirror_mode": {
    "name": "ipython",
    "version": 3
   },
   "file_extension": ".py",
   "mimetype": "text/x-python",
   "name": "python",
   "nbconvert_exporter": "python",
   "pygments_lexer": "ipython3",
   "version": "3.8.12"
  },
  "latex_envs": {
   "LaTeX_envs_menu_present": true,
   "autoclose": true,
   "autocomplete": true,
   "bibliofile": "biblio.bib",
   "cite_by": "apalike",
   "current_citInitial": 1,
   "eqLabelWithNumbers": true,
   "eqNumInitial": 1,
   "hotkeys": {
    "equation": "Ctrl-E",
    "itemize": "Ctrl-I"
   },
   "labels_anchors": false,
   "latex_user_defs": false,
   "report_style_numbering": false,
   "user_envs_cfg": false
  }
 },
 "nbformat": 4,
 "nbformat_minor": 5
}
