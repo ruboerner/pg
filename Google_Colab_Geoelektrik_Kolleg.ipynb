{
  "cells": [
    {
      "cell_type": "code",
      "source": [
        "!pip install pygimli==1.5.2 numpy==1.26"
      ],
      "metadata": {
        "colab": {
          "base_uri": "https://localhost:8080/"
        },
        "id": "caznIPKriL-B",
        "outputId": "ba05c1e7-a6b6-4688-dd42-57ab60ce1b60"
      },
      "execution_count": null,
      "outputs": [
        {
          "output_type": "stream",
          "name": "stdout",
          "text": [
            "Requirement already satisfied: pygimli in /usr/local/lib/python3.10/dist-packages (1.5.2)\n",
            "Requirement already satisfied: pgcore>=1.5 in /usr/local/lib/python3.10/dist-packages (from pygimli) (1.5.0)\n",
            "Requirement already satisfied: numpy>=1.25 in /usr/local/lib/python3.10/dist-packages (from pygimli) (2.1.1)\n",
            "Requirement already satisfied: matplotlib>=3.7 in /usr/local/lib/python3.10/dist-packages (from pygimli) (3.7.1)\n",
            "Requirement already satisfied: scipy>=1.11.0 in /usr/local/lib/python3.10/dist-packages (from pygimli) (1.13.1)\n",
            "Requirement already satisfied: scooby in /usr/local/lib/python3.10/dist-packages (from pygimli) (0.10.0)\n",
            "Requirement already satisfied: pyvista>=0.42 in /usr/local/lib/python3.10/dist-packages (from pyvista[all]>=0.42->pygimli) (0.44.1)\n",
            "Requirement already satisfied: tetgen in /usr/local/lib/python3.10/dist-packages (from pygimli) (0.6.5)\n",
            "Requirement already satisfied: tqdm in /usr/local/lib/python3.10/dist-packages (from pygimli) (4.66.5)\n",
            "Requirement already satisfied: contourpy>=1.0.1 in /usr/local/lib/python3.10/dist-packages (from matplotlib>=3.7->pygimli) (1.3.0)\n",
            "Requirement already satisfied: cycler>=0.10 in /usr/local/lib/python3.10/dist-packages (from matplotlib>=3.7->pygimli) (0.12.1)\n",
            "Requirement already satisfied: fonttools>=4.22.0 in /usr/local/lib/python3.10/dist-packages (from matplotlib>=3.7->pygimli) (4.53.1)\n",
            "Requirement already satisfied: kiwisolver>=1.0.1 in /usr/local/lib/python3.10/dist-packages (from matplotlib>=3.7->pygimli) (1.4.5)\n",
            "Requirement already satisfied: packaging>=20.0 in /usr/local/lib/python3.10/dist-packages (from matplotlib>=3.7->pygimli) (24.1)\n",
            "Requirement already satisfied: pillow>=6.2.0 in /usr/local/lib/python3.10/dist-packages (from matplotlib>=3.7->pygimli) (9.4.0)\n",
            "Requirement already satisfied: pyparsing>=2.3.1 in /usr/local/lib/python3.10/dist-packages (from matplotlib>=3.7->pygimli) (3.1.4)\n",
            "Requirement already satisfied: python-dateutil>=2.7 in /usr/local/lib/python3.10/dist-packages (from matplotlib>=3.7->pygimli) (2.8.2)\n",
            "Requirement already satisfied: pooch in /usr/local/lib/python3.10/dist-packages (from pyvista>=0.42->pyvista[all]>=0.42->pygimli) (1.8.2)\n",
            "Requirement already satisfied: vtk in /usr/local/lib/python3.10/dist-packages (from pyvista>=0.42->pyvista[all]>=0.42->pygimli) (9.3.1)\n",
            "Requirement already satisfied: typing-extensions in /usr/local/lib/python3.10/dist-packages (from pyvista>=0.42->pyvista[all]>=0.42->pygimli) (4.12.2)\n",
            "Requirement already satisfied: six>=1.5 in /usr/local/lib/python3.10/dist-packages (from python-dateutil>=2.7->matplotlib>=3.7->pygimli) (1.16.0)\n",
            "Requirement already satisfied: platformdirs>=2.5.0 in /usr/local/lib/python3.10/dist-packages (from pooch->pyvista>=0.42->pyvista[all]>=0.42->pygimli) (4.2.2)\n",
            "Requirement already satisfied: requests>=2.19.0 in /usr/local/lib/python3.10/dist-packages (from pooch->pyvista>=0.42->pyvista[all]>=0.42->pygimli) (2.32.3)\n",
            "Requirement already satisfied: cmocean in /usr/local/lib/python3.10/dist-packages (from pyvista>=0.42->pyvista[all]>=0.42->pygimli) (4.0.3)\n",
            "Requirement already satisfied: colorcet in /usr/local/lib/python3.10/dist-packages (from pyvista>=0.42->pyvista[all]>=0.42->pygimli) (3.1.0)\n",
            "Requirement already satisfied: ipywidgets in /usr/local/lib/python3.10/dist-packages (from pyvista>=0.42->pyvista[all]>=0.42->pygimli) (7.7.1)\n",
            "Requirement already satisfied: jupyter-server-proxy in /usr/local/lib/python3.10/dist-packages (from pyvista>=0.42->pyvista[all]>=0.42->pygimli) (4.4.0)\n",
            "Requirement already satisfied: nest-asyncio in /usr/local/lib/python3.10/dist-packages (from pyvista>=0.42->pyvista[all]>=0.42->pygimli) (1.6.0)\n",
            "Requirement already satisfied: trame>=2.5.2 in /usr/local/lib/python3.10/dist-packages (from pyvista>=0.42->pyvista[all]>=0.42->pygimli) (3.6.3)\n",
            "Requirement already satisfied: trame-client>=2.12.7 in /usr/local/lib/python3.10/dist-packages (from pyvista>=0.42->pyvista[all]>=0.42->pygimli) (3.2.5)\n",
            "Requirement already satisfied: trame-server>=2.11.7 in /usr/local/lib/python3.10/dist-packages (from pyvista>=0.42->pyvista[all]>=0.42->pygimli) (3.1.2)\n",
            "Requirement already satisfied: trame-vtk>=2.5.8 in /usr/local/lib/python3.10/dist-packages (from pyvista>=0.42->pyvista[all]>=0.42->pygimli) (2.8.10)\n",
            "Requirement already satisfied: trame-vuetify>=2.3.1 in /usr/local/lib/python3.10/dist-packages (from pyvista>=0.42->pyvista[all]>=0.42->pygimli) (2.7.1)\n",
            "Requirement already satisfied: imageio in /usr/local/lib/python3.10/dist-packages (from pyvista>=0.42->pyvista[all]>=0.42->pygimli) (2.34.2)\n",
            "Requirement already satisfied: meshio>=5.2 in /usr/local/lib/python3.10/dist-packages (from pyvista>=0.42->pyvista[all]>=0.42->pygimli) (5.3.5)\n",
            "Requirement already satisfied: rich in /usr/local/lib/python3.10/dist-packages (from meshio>=5.2->pyvista>=0.42->pyvista[all]>=0.42->pygimli) (13.8.0)\n",
            "Requirement already satisfied: charset-normalizer<4,>=2 in /usr/local/lib/python3.10/dist-packages (from requests>=2.19.0->pooch->pyvista>=0.42->pyvista[all]>=0.42->pygimli) (3.3.2)\n",
            "Requirement already satisfied: idna<4,>=2.5 in /usr/local/lib/python3.10/dist-packages (from requests>=2.19.0->pooch->pyvista>=0.42->pyvista[all]>=0.42->pygimli) (3.8)\n",
            "Requirement already satisfied: urllib3<3,>=1.21.1 in /usr/local/lib/python3.10/dist-packages (from requests>=2.19.0->pooch->pyvista>=0.42->pyvista[all]>=0.42->pygimli) (2.0.7)\n",
            "Requirement already satisfied: certifi>=2017.4.17 in /usr/local/lib/python3.10/dist-packages (from requests>=2.19.0->pooch->pyvista>=0.42->pyvista[all]>=0.42->pygimli) (2024.7.4)\n",
            "Requirement already satisfied: wslink<3,>=2 in /usr/local/lib/python3.10/dist-packages (from trame-server>=2.11.7->pyvista>=0.42->pyvista[all]>=0.42->pygimli) (2.1.2)\n",
            "Requirement already satisfied: more-itertools in /usr/local/lib/python3.10/dist-packages (from trame-server>=2.11.7->pyvista>=0.42->pyvista[all]>=0.42->pygimli) (10.3.0)\n",
            "Requirement already satisfied: ipykernel>=4.5.1 in /usr/local/lib/python3.10/dist-packages (from ipywidgets->pyvista>=0.42->pyvista[all]>=0.42->pygimli) (5.5.6)\n",
            "Requirement already satisfied: ipython-genutils~=0.2.0 in /usr/local/lib/python3.10/dist-packages (from ipywidgets->pyvista>=0.42->pyvista[all]>=0.42->pygimli) (0.2.0)\n",
            "Requirement already satisfied: traitlets>=4.3.1 in /usr/local/lib/python3.10/dist-packages (from ipywidgets->pyvista>=0.42->pyvista[all]>=0.42->pygimli) (5.7.1)\n",
            "Requirement already satisfied: widgetsnbextension~=3.6.0 in /usr/local/lib/python3.10/dist-packages (from ipywidgets->pyvista>=0.42->pyvista[all]>=0.42->pygimli) (3.6.8)\n",
            "Requirement already satisfied: ipython>=4.0.0 in /usr/local/lib/python3.10/dist-packages (from ipywidgets->pyvista>=0.42->pyvista[all]>=0.42->pygimli) (7.34.0)\n",
            "Requirement already satisfied: jupyterlab-widgets>=1.0.0 in /usr/local/lib/python3.10/dist-packages (from ipywidgets->pyvista>=0.42->pyvista[all]>=0.42->pygimli) (3.0.13)\n",
            "Requirement already satisfied: aiohttp in /usr/local/lib/python3.10/dist-packages (from jupyter-server-proxy->pyvista>=0.42->pyvista[all]>=0.42->pygimli) (3.10.5)\n",
            "Requirement already satisfied: jupyter-server>=1.24.0 in /usr/local/lib/python3.10/dist-packages (from jupyter-server-proxy->pyvista>=0.42->pyvista[all]>=0.42->pygimli) (1.24.0)\n",
            "Requirement already satisfied: simpervisor>=1.0.0 in /usr/local/lib/python3.10/dist-packages (from jupyter-server-proxy->pyvista>=0.42->pyvista[all]>=0.42->pygimli) (1.0.0)\n",
            "Requirement already satisfied: tornado>=6.1.0 in /usr/local/lib/python3.10/dist-packages (from jupyter-server-proxy->pyvista>=0.42->pyvista[all]>=0.42->pygimli) (6.3.3)\n",
            "Requirement already satisfied: jupyter-client in /usr/local/lib/python3.10/dist-packages (from ipykernel>=4.5.1->ipywidgets->pyvista>=0.42->pyvista[all]>=0.42->pygimli) (6.1.12)\n",
            "Requirement already satisfied: setuptools>=18.5 in /usr/local/lib/python3.10/dist-packages (from ipython>=4.0.0->ipywidgets->pyvista>=0.42->pyvista[all]>=0.42->pygimli) (71.0.4)\n",
            "Requirement already satisfied: jedi>=0.16 in /usr/local/lib/python3.10/dist-packages (from ipython>=4.0.0->ipywidgets->pyvista>=0.42->pyvista[all]>=0.42->pygimli) (0.19.1)\n",
            "Requirement already satisfied: decorator in /usr/local/lib/python3.10/dist-packages (from ipython>=4.0.0->ipywidgets->pyvista>=0.42->pyvista[all]>=0.42->pygimli) (4.4.2)\n",
            "Requirement already satisfied: pickleshare in /usr/local/lib/python3.10/dist-packages (from ipython>=4.0.0->ipywidgets->pyvista>=0.42->pyvista[all]>=0.42->pygimli) (0.7.5)\n",
            "Requirement already satisfied: prompt-toolkit!=3.0.0,!=3.0.1,<3.1.0,>=2.0.0 in /usr/local/lib/python3.10/dist-packages (from ipython>=4.0.0->ipywidgets->pyvista>=0.42->pyvista[all]>=0.42->pygimli) (3.0.47)\n",
            "Requirement already satisfied: pygments in /usr/local/lib/python3.10/dist-packages (from ipython>=4.0.0->ipywidgets->pyvista>=0.42->pyvista[all]>=0.42->pygimli) (2.16.1)\n",
            "Requirement already satisfied: backcall in /usr/local/lib/python3.10/dist-packages (from ipython>=4.0.0->ipywidgets->pyvista>=0.42->pyvista[all]>=0.42->pygimli) (0.2.0)\n",
            "Requirement already satisfied: matplotlib-inline in /usr/local/lib/python3.10/dist-packages (from ipython>=4.0.0->ipywidgets->pyvista>=0.42->pyvista[all]>=0.42->pygimli) (0.1.7)\n",
            "Requirement already satisfied: pexpect>4.3 in /usr/local/lib/python3.10/dist-packages (from ipython>=4.0.0->ipywidgets->pyvista>=0.42->pyvista[all]>=0.42->pygimli) (4.9.0)\n",
            "Requirement already satisfied: anyio<4,>=3.1.0 in /usr/local/lib/python3.10/dist-packages (from jupyter-server>=1.24.0->jupyter-server-proxy->pyvista>=0.42->pyvista[all]>=0.42->pygimli) (3.7.1)\n",
            "Requirement already satisfied: argon2-cffi in /usr/local/lib/python3.10/dist-packages (from jupyter-server>=1.24.0->jupyter-server-proxy->pyvista>=0.42->pyvista[all]>=0.42->pygimli) (23.1.0)\n",
            "Requirement already satisfied: jinja2 in /usr/local/lib/python3.10/dist-packages (from jupyter-server>=1.24.0->jupyter-server-proxy->pyvista>=0.42->pyvista[all]>=0.42->pygimli) (3.1.4)\n",
            "Requirement already satisfied: jupyter-core!=5.0.*,>=4.12 in /usr/local/lib/python3.10/dist-packages (from jupyter-server>=1.24.0->jupyter-server-proxy->pyvista>=0.42->pyvista[all]>=0.42->pygimli) (5.7.2)\n",
            "Requirement already satisfied: nbconvert>=6.4.4 in /usr/local/lib/python3.10/dist-packages (from jupyter-server>=1.24.0->jupyter-server-proxy->pyvista>=0.42->pyvista[all]>=0.42->pygimli) (6.5.4)\n",
            "Requirement already satisfied: nbformat>=5.2.0 in /usr/local/lib/python3.10/dist-packages (from jupyter-server>=1.24.0->jupyter-server-proxy->pyvista>=0.42->pyvista[all]>=0.42->pygimli) (5.10.4)\n",
            "Requirement already satisfied: prometheus-client in /usr/local/lib/python3.10/dist-packages (from jupyter-server>=1.24.0->jupyter-server-proxy->pyvista>=0.42->pyvista[all]>=0.42->pygimli) (0.20.0)\n",
            "Requirement already satisfied: pyzmq>=17 in /usr/local/lib/python3.10/dist-packages (from jupyter-server>=1.24.0->jupyter-server-proxy->pyvista>=0.42->pyvista[all]>=0.42->pygimli) (24.0.1)\n",
            "Requirement already satisfied: Send2Trash in /usr/local/lib/python3.10/dist-packages (from jupyter-server>=1.24.0->jupyter-server-proxy->pyvista>=0.42->pyvista[all]>=0.42->pygimli) (1.8.3)\n",
            "Requirement already satisfied: terminado>=0.8.3 in /usr/local/lib/python3.10/dist-packages (from jupyter-server>=1.24.0->jupyter-server-proxy->pyvista>=0.42->pyvista[all]>=0.42->pygimli) (0.18.1)\n",
            "Requirement already satisfied: websocket-client in /usr/local/lib/python3.10/dist-packages (from jupyter-server>=1.24.0->jupyter-server-proxy->pyvista>=0.42->pyvista[all]>=0.42->pygimli) (1.8.0)\n",
            "Requirement already satisfied: notebook>=4.4.1 in /usr/local/lib/python3.10/dist-packages (from widgetsnbextension~=3.6.0->ipywidgets->pyvista>=0.42->pyvista[all]>=0.42->pygimli) (6.5.5)\n",
            "Requirement already satisfied: msgpack<2,>=1 in /usr/local/lib/python3.10/dist-packages (from wslink<3,>=2->trame-server>=2.11.7->pyvista>=0.42->pyvista[all]>=0.42->pygimli) (1.0.8)\n",
            "Requirement already satisfied: aiohappyeyeballs>=2.3.0 in /usr/local/lib/python3.10/dist-packages (from aiohttp->jupyter-server-proxy->pyvista>=0.42->pyvista[all]>=0.42->pygimli) (2.4.0)\n",
            "Requirement already satisfied: aiosignal>=1.1.2 in /usr/local/lib/python3.10/dist-packages (from aiohttp->jupyter-server-proxy->pyvista>=0.42->pyvista[all]>=0.42->pygimli) (1.3.1)\n",
            "Requirement already satisfied: attrs>=17.3.0 in /usr/local/lib/python3.10/dist-packages (from aiohttp->jupyter-server-proxy->pyvista>=0.42->pyvista[all]>=0.42->pygimli) (24.2.0)\n",
            "Requirement already satisfied: frozenlist>=1.1.1 in /usr/local/lib/python3.10/dist-packages (from aiohttp->jupyter-server-proxy->pyvista>=0.42->pyvista[all]>=0.42->pygimli) (1.4.1)\n",
            "Requirement already satisfied: multidict<7.0,>=4.5 in /usr/local/lib/python3.10/dist-packages (from aiohttp->jupyter-server-proxy->pyvista>=0.42->pyvista[all]>=0.42->pygimli) (6.0.5)\n",
            "Requirement already satisfied: yarl<2.0,>=1.0 in /usr/local/lib/python3.10/dist-packages (from aiohttp->jupyter-server-proxy->pyvista>=0.42->pyvista[all]>=0.42->pygimli) (1.9.4)\n",
            "Requirement already satisfied: async-timeout<5.0,>=4.0 in /usr/local/lib/python3.10/dist-packages (from aiohttp->jupyter-server-proxy->pyvista>=0.42->pyvista[all]>=0.42->pygimli) (4.0.3)\n",
            "Requirement already satisfied: markdown-it-py>=2.2.0 in /usr/local/lib/python3.10/dist-packages (from rich->meshio>=5.2->pyvista>=0.42->pyvista[all]>=0.42->pygimli) (3.0.0)\n",
            "Requirement already satisfied: sniffio>=1.1 in /usr/local/lib/python3.10/dist-packages (from anyio<4,>=3.1.0->jupyter-server>=1.24.0->jupyter-server-proxy->pyvista>=0.42->pyvista[all]>=0.42->pygimli) (1.3.1)\n",
            "Requirement already satisfied: exceptiongroup in /usr/local/lib/python3.10/dist-packages (from anyio<4,>=3.1.0->jupyter-server>=1.24.0->jupyter-server-proxy->pyvista>=0.42->pyvista[all]>=0.42->pygimli) (1.2.2)\n",
            "Requirement already satisfied: parso<0.9.0,>=0.8.3 in /usr/local/lib/python3.10/dist-packages (from jedi>=0.16->ipython>=4.0.0->ipywidgets->pyvista>=0.42->pyvista[all]>=0.42->pygimli) (0.8.4)\n",
            "Requirement already satisfied: mdurl~=0.1 in /usr/local/lib/python3.10/dist-packages (from markdown-it-py>=2.2.0->rich->meshio>=5.2->pyvista>=0.42->pyvista[all]>=0.42->pygimli) (0.1.2)\n",
            "Requirement already satisfied: lxml in /usr/local/lib/python3.10/dist-packages (from nbconvert>=6.4.4->jupyter-server>=1.24.0->jupyter-server-proxy->pyvista>=0.42->pyvista[all]>=0.42->pygimli) (4.9.4)\n",
            "Requirement already satisfied: beautifulsoup4 in /usr/local/lib/python3.10/dist-packages (from nbconvert>=6.4.4->jupyter-server>=1.24.0->jupyter-server-proxy->pyvista>=0.42->pyvista[all]>=0.42->pygimli) (4.12.3)\n",
            "Requirement already satisfied: bleach in /usr/local/lib/python3.10/dist-packages (from nbconvert>=6.4.4->jupyter-server>=1.24.0->jupyter-server-proxy->pyvista>=0.42->pyvista[all]>=0.42->pygimli) (6.1.0)\n",
            "Requirement already satisfied: defusedxml in /usr/local/lib/python3.10/dist-packages (from nbconvert>=6.4.4->jupyter-server>=1.24.0->jupyter-server-proxy->pyvista>=0.42->pyvista[all]>=0.42->pygimli) (0.7.1)\n",
            "Requirement already satisfied: entrypoints>=0.2.2 in /usr/local/lib/python3.10/dist-packages (from nbconvert>=6.4.4->jupyter-server>=1.24.0->jupyter-server-proxy->pyvista>=0.42->pyvista[all]>=0.42->pygimli) (0.4)\n",
            "Requirement already satisfied: jupyterlab-pygments in /usr/local/lib/python3.10/dist-packages (from nbconvert>=6.4.4->jupyter-server>=1.24.0->jupyter-server-proxy->pyvista>=0.42->pyvista[all]>=0.42->pygimli) (0.3.0)\n",
            "Requirement already satisfied: MarkupSafe>=2.0 in /usr/local/lib/python3.10/dist-packages (from nbconvert>=6.4.4->jupyter-server>=1.24.0->jupyter-server-proxy->pyvista>=0.42->pyvista[all]>=0.42->pygimli) (2.1.5)\n",
            "Requirement already satisfied: mistune<2,>=0.8.1 in /usr/local/lib/python3.10/dist-packages (from nbconvert>=6.4.4->jupyter-server>=1.24.0->jupyter-server-proxy->pyvista>=0.42->pyvista[all]>=0.42->pygimli) (0.8.4)\n",
            "Requirement already satisfied: nbclient>=0.5.0 in /usr/local/lib/python3.10/dist-packages (from nbconvert>=6.4.4->jupyter-server>=1.24.0->jupyter-server-proxy->pyvista>=0.42->pyvista[all]>=0.42->pygimli) (0.10.0)\n",
            "Requirement already satisfied: pandocfilters>=1.4.1 in /usr/local/lib/python3.10/dist-packages (from nbconvert>=6.4.4->jupyter-server>=1.24.0->jupyter-server-proxy->pyvista>=0.42->pyvista[all]>=0.42->pygimli) (1.5.1)\n",
            "Requirement already satisfied: tinycss2 in /usr/local/lib/python3.10/dist-packages (from nbconvert>=6.4.4->jupyter-server>=1.24.0->jupyter-server-proxy->pyvista>=0.42->pyvista[all]>=0.42->pygimli) (1.3.0)\n",
            "Requirement already satisfied: fastjsonschema>=2.15 in /usr/local/lib/python3.10/dist-packages (from nbformat>=5.2.0->jupyter-server>=1.24.0->jupyter-server-proxy->pyvista>=0.42->pyvista[all]>=0.42->pygimli) (2.20.0)\n",
            "Requirement already satisfied: jsonschema>=2.6 in /usr/local/lib/python3.10/dist-packages (from nbformat>=5.2.0->jupyter-server>=1.24.0->jupyter-server-proxy->pyvista>=0.42->pyvista[all]>=0.42->pygimli) (4.23.0)\n",
            "Requirement already satisfied: nbclassic>=0.4.7 in /usr/local/lib/python3.10/dist-packages (from notebook>=4.4.1->widgetsnbextension~=3.6.0->ipywidgets->pyvista>=0.42->pyvista[all]>=0.42->pygimli) (1.1.0)\n",
            "Requirement already satisfied: ptyprocess>=0.5 in /usr/local/lib/python3.10/dist-packages (from pexpect>4.3->ipython>=4.0.0->ipywidgets->pyvista>=0.42->pyvista[all]>=0.42->pygimli) (0.7.0)\n",
            "Requirement already satisfied: wcwidth in /usr/local/lib/python3.10/dist-packages (from prompt-toolkit!=3.0.0,!=3.0.1,<3.1.0,>=2.0.0->ipython>=4.0.0->ipywidgets->pyvista>=0.42->pyvista[all]>=0.42->pygimli) (0.2.13)\n",
            "Requirement already satisfied: argon2-cffi-bindings in /usr/local/lib/python3.10/dist-packages (from argon2-cffi->jupyter-server>=1.24.0->jupyter-server-proxy->pyvista>=0.42->pyvista[all]>=0.42->pygimli) (21.2.0)\n",
            "Requirement already satisfied: jsonschema-specifications>=2023.03.6 in /usr/local/lib/python3.10/dist-packages (from jsonschema>=2.6->nbformat>=5.2.0->jupyter-server>=1.24.0->jupyter-server-proxy->pyvista>=0.42->pyvista[all]>=0.42->pygimli) (2023.12.1)\n",
            "Requirement already satisfied: referencing>=0.28.4 in /usr/local/lib/python3.10/dist-packages (from jsonschema>=2.6->nbformat>=5.2.0->jupyter-server>=1.24.0->jupyter-server-proxy->pyvista>=0.42->pyvista[all]>=0.42->pygimli) (0.35.1)\n",
            "Requirement already satisfied: rpds-py>=0.7.1 in /usr/local/lib/python3.10/dist-packages (from jsonschema>=2.6->nbformat>=5.2.0->jupyter-server>=1.24.0->jupyter-server-proxy->pyvista>=0.42->pyvista[all]>=0.42->pygimli) (0.20.0)\n",
            "Requirement already satisfied: notebook-shim>=0.2.3 in /usr/local/lib/python3.10/dist-packages (from nbclassic>=0.4.7->notebook>=4.4.1->widgetsnbextension~=3.6.0->ipywidgets->pyvista>=0.42->pyvista[all]>=0.42->pygimli) (0.2.4)\n",
            "Requirement already satisfied: cffi>=1.0.1 in /usr/local/lib/python3.10/dist-packages (from argon2-cffi-bindings->argon2-cffi->jupyter-server>=1.24.0->jupyter-server-proxy->pyvista>=0.42->pyvista[all]>=0.42->pygimli) (1.17.0)\n",
            "Requirement already satisfied: soupsieve>1.2 in /usr/local/lib/python3.10/dist-packages (from beautifulsoup4->nbconvert>=6.4.4->jupyter-server>=1.24.0->jupyter-server-proxy->pyvista>=0.42->pyvista[all]>=0.42->pygimli) (2.6)\n",
            "Requirement already satisfied: webencodings in /usr/local/lib/python3.10/dist-packages (from bleach->nbconvert>=6.4.4->jupyter-server>=1.24.0->jupyter-server-proxy->pyvista>=0.42->pyvista[all]>=0.42->pygimli) (0.5.1)\n",
            "Requirement already satisfied: pycparser in /usr/local/lib/python3.10/dist-packages (from cffi>=1.0.1->argon2-cffi-bindings->argon2-cffi->jupyter-server>=1.24.0->jupyter-server-proxy->pyvista>=0.42->pyvista[all]>=0.42->pygimli) (2.22)\n"
          ]
        }
      ]
    },
    {
      "cell_type": "code",
      "source": [
        "import numpy as np\n",
        "import pygimli as pg\n",
        "import matplotlib.pyplot as plt\n",
        "from pygimli.viewer.mpl import drawModel1D\n",
        "\n",
        "from pygimli.physics import VESManager\n",
        "\n",
        "\n",
        "import warnings\n",
        "warnings.filterwarnings(\"ignore\")"
      ],
      "metadata": {
        "id": "2l6D8jY_iQq_"
      },
      "execution_count": null,
      "outputs": []
    },
    {
      "cell_type": "code",
      "source": [
        "def dateninversion(ab2, mn2, rhoa, nl, lam, errPerc):\n",
        "    ves = VESManager()\n",
        "    ves.invert(data=rhoa, error=errPerc, ab2=ab2, mn2=mn2,\n",
        "           nLayers=nl,\n",
        "           startModel=[10]*(nl-1)+[10]*nl,\n",
        "           lam=lam, lambdaFactor=0.7,\n",
        "           verbose=False\n",
        "           )\n",
        "    thknew = ves.model[0:nl-1]\n",
        "    resnew = ves.model[nl-1:]\n",
        "    rhoaresponse = ves.inv.response\n",
        "    return resnew, thknew, rhoaresponse, ves.inv.relrms(), ves.inv.chi2()\n",
        "\n",
        "def plotresults(res, thk, ab2, rhoa, rhoaresponse):\n",
        "    fig, ax = plt.subplots(ncols=2, figsize=(14,6))\n",
        "    drawModel1D(ax[0], thk, res, plot='semilogx', color='b', label='Inversionsmodell')\n",
        "    ax[0].grid(True, which='both')\n",
        "    ax[0].set_ylabel('Teufe in m')\n",
        "    ax[0].set_xlabel(r'$\\rho$ in $\\Omega\\cdot m$')\n",
        "    ax[0].set_xlim((1.0, 2000.0))\n",
        "    ax[0].legend(loc='best')\n",
        "\n",
        "    ax[1].loglog(rhoa, ab2, 'rx-', label='Daten')\n",
        "    ax[1].loglog(rhoaresponse, ab2, 'b-', label='Modellantwort')\n",
        "    ax[1].set_ylim((max(ab2), min(ab2)))\n",
        "    ax[1].set_xlim((10.0, 1000.0))\n",
        "    ax[1].grid(True, which='both')\n",
        "    ax[1].legend(loc='best')\n",
        "    ax[1].set_xlabel(r'$\\rho_s$ in $\\Omega\\cdot m$')\n",
        "    ax[1].set_ylabel('AB/2 in m')\n",
        "\n",
        "    plt.show()\n",
        "\n",
        "def datenberechnen(ab2, mn2, res, thk, errPerc=0.0):\n",
        "    nl = len(res)\n",
        "    synthmodel = thk + res\n",
        "    ves = VESManager()\n",
        "    rhoa, err = ves.simulate(synthmodel, ab2=ab2, mn2=mn2, noiseLevel=0.01, seed=1337)\n",
        "    return ves, rhoa, err\n",
        "\n",
        "def plotdata(rhoa, ab2):\n",
        "    fig, ax = plt.subplots()\n",
        "    ax.loglog(ab2, rhoa, 'rx-', label='Daten')\n",
        "    ax.set_xlim((min(ab2), max(ab2)))\n",
        "    ax.set_ylim((10.0,1000.0))\n",
        "    ax.set_xlabel('AB/2 in m')\n",
        "    ax.set_ylabel(r'$\\rho_s$ in $\\Omega\\cdot m$')\n",
        "    ax.legend(loc='best')\n",
        "    ax.grid(True, which='both')\n",
        "    plt.show()\n",
        "\n",
        "def datenvergleichen(rhoa, rhoanew, ab2):\n",
        "    fig, ax = plt.subplots(figsize=(6,6))\n",
        "    ax.loglog(ab2, rhoa, 'rx-', label='Daten')\n",
        "    ax.loglog(ab2, np.array(list(rhoanew)), 'b-', label='Modellantwort')\n",
        "    ax.set_xlim((1.0, 100.0))\n",
        "    ax.set_ylim((10.0,1000.0))\n",
        "    ax.set_xlabel('AB/2 in m')\n",
        "    ax.set_ylabel(r'$\\rho_s$ in $\\Omega\\cdot m$')\n",
        "    ax.legend(loc='best')\n",
        "    ax.grid(True, which='both')\n",
        "    plt.show()"
      ],
      "metadata": {
        "id": "lG0wILkNiWU9"
      },
      "execution_count": null,
      "outputs": []
    },
    {
      "cell_type": "markdown",
      "metadata": {
        "id": "fnBvph0jULbm"
      },
      "source": [
        "**Bedienungsanleitung:** Alle Zellen mit der Markierung `In [..]:` enthalten Python-Code. Zum Ausführen des Codes nutzen Sie die Tastenkombination `Shift-Return`. Die jeweils aktive ausführbare Zelle erkennen Sie am Rahmen mit dem grünen vertikalen Balken sowie der Markierung `In [..]:` am linken Rand.\n",
        "\n",
        "Bei der ersten Ausführung der Zelle `In [1]:` kann es zu einer Warnmeldung kommen, welche ignoriert werden kann."
      ]
    },
    {
      "cell_type": "markdown",
      "metadata": {
        "id": "d9vlO0G3ULbn"
      },
      "source": [
        "**Aufgabenstellung:** Arbeiten Sie das Notebook ab. In der Tabelle vor Code-Zelle 2 `In [2]:` finden Sie die Daten für eine geoelektrische Widerstandstiefensondierung $\\rho_s(AB/2)$. Diese sind in Code-Zelle 2 `In [2]:` bereits in die Python-Arrays `ab2` und `rhoa` eingetragen worden.\n",
        "\n",
        "Damit bleibt für Sie die Aufgabe, spezifische Widerstände $\\rho_i$, $i=1,2,3$ und Mächtigkeiten $h_i$, $i=1,2$ eines horizontalgeschichteten Dreischichtfalls zu bestimmen. Mit vorgegebenen Startwerten erzeugen Sie zunächst eine synthetische Sondierungskurve. Durch gezielte Veränderungen der Werte von $\\rho_i$ und $h_i$ versuchen Sie dann, die gemessene und synthetische Sondierungskurve schrittweise in bestmögliche Übereinstimmung zu bringen.\n",
        "\n",
        "Im Abschluss können Sie eine automatische Anpassung (*geophysikalische Dateninversion*) durchführen, um optimale Werte für $\\rho$ und $h$ zu erhalten.\n",
        "\n",
        "Für das Protokoll verwerten Sie die erzeugten Abbildungen sowie die Zahlenwerte für $\\rho_i$ und $h_i$."
      ]
    },
    {
      "cell_type": "markdown",
      "metadata": {
        "id": "mhp4CiO3ULbo"
      },
      "source": [
        "# Auswertung einer Widerstandstiefensondierung\n",
        "## Grundlagen der Methode\n",
        "\n",
        "Bei einer Widerstandstiefensondierung werden scheinbare spezifische elektrische Widerstände $\\rho_s$ aufgezeichnet.\n",
        "Dabei wird der Abstand der Stromelektroden A ud B unter Beibehaltung des Mittelpunktes der Anordnung schrittweise vergrößert.\n",
        "Ist der Abstand zwischen den Potentialsonden M und N immer kleiner als AB/3, sprechen wir von einer *Schlumbergeranordnung*.\n",
        "\n",
        "Die Geoelektrik-Apparatur misst dabei elektrische Spannungen zwischen den Sonden M und N sowie den zwischen den Elektroden A und B fließenden elektrischen Strom.\n",
        "Daraus wird mit der Beziehung\n",
        "$$\n",
        "R = \\frac{U}{I} \\quad\\text{  in  } \\Omega\n",
        "$$\n",
        "zunächst der Ohmsche Widerstand ermittelt.\n",
        "Dieser wird mit dem Konfigurationsfaktor für die Schlumbergeranordnung\n",
        "$$\n",
        "k = \\frac{\\pi}{\\text{MN}}\\left( \\frac{\\text{AB}^2}{4} - \\frac{\\text{MN}^2}{4} \\right)\n",
        "$$\n",
        "multipliziert.\n",
        "\n",
        "Wir erhalten auf diese Weise den scheinbaren spezifischen elektrischen Widerstand\n",
        "$$\n",
        "\\rho_s = R \\cdot k \\quad\\text{  in  } \\Omega\\cdot m.\n",
        "$$"
      ]
    },
    {
      "cell_type": "markdown",
      "metadata": {
        "id": "V596XFM1ULbo"
      },
      "source": [
        "Das folgende Bild zeigt eine typische Sondierungskurve, zu deren Interpretation ein Dreischichtfall hinreichend ist."
      ]
    },
    {
      "cell_type": "markdown",
      "metadata": {
        "id": "dEDkZfUKULbo"
      },
      "source": [
        "![Sondierungskurve](https://github.com/ruboerner/pg/blob/master/soundingcurve.png?raw=1)"
      ]
    },
    {
      "cell_type": "markdown",
      "metadata": {
        "id": "Dke-ZlY8ULbo"
      },
      "source": [
        "## Auswertung\n",
        "Das Ziel der Auswertung besteht in der Ermittlung der *spezifischen Widerstände* und *Mächtigkeiten* von Bodenschichten unter der Annahme einer näherungsweise horizontalen Lagerung.\n",
        "Die Messwerte werden zunächst graphisch als *Sondierungskurve* $\\rho_s = f(AB/2)$ dargestellt.\n",
        "Aus dem Kurvenverlauf schätzt man die minimale Anzahl von Schichten ab.\n"
      ]
    },
    {
      "cell_type": "markdown",
      "metadata": {
        "id": "JWnVeaoIULbo"
      },
      "source": [
        "Für die Auswertung benutzen wir die Python-Bibliothek pygimli ([www.pygimli.org](http://www.pygimli.org)).\n",
        "\n",
        "Dazu importieren wir das Modul `functions`."
      ]
    },
    {
      "cell_type": "markdown",
      "metadata": {
        "id": "coXiVNhrULbq"
      },
      "source": [
        "Die Daten wurden für logarithmisch äquidistante Positionen der Stromelektroden aufgenommen.\n",
        "<!---\n",
        "\n",
        "Wir fassen die Messwerte in einer Tabelle zusammen:\n",
        "\n",
        "| AB/2 in m | $\\rho_s$ in $\\Omega\\cdot m$ |\n",
        "|-------------|-----------------------------|\n",
        "| 1.0 | 195.07 |\n",
        " |1.3   | 197.25 |\n",
        " |1.8  | 186.88 |\n",
        " |2.4   | 162.47 |\n",
        " |3.2   | 127.12 |\n",
        " |4.2   | 89.57 |\n",
        " |5.6   | 55.84 |\n",
        " |7.5   | 33.14 |\n",
        " |10.0   | 29.21 |\n",
        " |13.0   | 31.63 |\n",
        " |18.0   | 42.90 |\n",
        " |24.0   | 57.91 |\n",
        " |32.0   | 72.59 |\n",
        " |42.0   | 96.33 |\n",
        " |56.0   | 121.64 |\n",
        " |75.0   | 168.55 |\n",
        " |100.0   | 204.98 |\n",
        "\n",
        "Für alle Werte von AB/2 war der Abstand der Potentialsonden immer 0.6 m, d.h., MN/2 = 0.3 m.\n",
        "-->\n",
        "Wir fassen die Messwerte in den *Python*-Arrays `ab2`, `mn2` und `rhoa` zusammen. Die Richtung der Profilauslage wird in den Variablennamen durch Anhängen von ``_EW`` bzw. ``_NS`` gekennzeichnet."
      ]
    },
    {
      "cell_type": "code",
      "execution_count": null,
      "metadata": {
        "id": "4Y9_vunxULbq"
      },
      "outputs": [],
      "source": [
        "ab2_EW = np.array([1.0, 1.3, 1.8,\n",
        "                2.4, 3.2, 4.2,\n",
        "                4.2, 5.6, 7.5,\n",
        "                10, 13, 18,\n",
        "                24, 32, 42])\n",
        "mn2_EW = np.array([0.3, 0.3, 0.3,\n",
        "                0.3, 0.3, 0.3,\n",
        "                1.0, 1.0, 1.0,\n",
        "                1.0, 1.0, 1.0,\n",
        "                1.0, 1.0, 1.0\n",
        "               ])\n",
        "rhoa_EW = np.array([138.18, 121.56, 106.22,\n",
        "                109.55, 114.79, 118.26,\n",
        "                112.39, 116.84, 125.58,\n",
        "                131.25, 129.04, 97.92,\n",
        "                90.23, 90.63, 76.16\n",
        "                ])"
      ]
    },
    {
      "cell_type": "code",
      "execution_count": null,
      "metadata": {
        "id": "QtSBoz8yULbq"
      },
      "outputs": [],
      "source": [
        "ab2_NS = np.array([1.00, 1.30, 1.80,\n",
        "        2.40, 3.20, 4.20,\n",
        "        5.60, 7.50, 10.00,\n",
        "        13.00, 18.00, 24.00, 32.00\n",
        "])\n",
        "mn2_NS = np.array([0.30, 0.30, 0.30,\n",
        "    0.30, 0.30, 0.30, 0.30,\n",
        "    1.00, 1.00, 1.00, 1.00,\n",
        "    1.00, 1.00\n",
        "])\n",
        "rhoa_NS = np.array([134.36, 117.62, 114.13,\n",
        "    110.14, 99.12, 98.05,\n",
        "    94.76, 106.13, 111.96,\n",
        "    120.07, 113.65, 92.58, 55.44\n",
        "])"
      ]
    },
    {
      "cell_type": "markdown",
      "metadata": {
        "id": "ta9FvJykULbq"
      },
      "source": [
        "### Visualisierung der Sondierungskurven\n",
        "\n",
        "Sondierungskurven werden in doppeltlogarithmischer Skalierung dargestellt. Auf der x-Achse werden die halben Elektrodenabstände (AB/2), auf der y-Achse die scheinbaren spezifischen Widerstände $\\rho_s$ abgetragen.\n",
        "\n",
        "Im Idealfall einer horizontalen, ebenen Schichtung müssen die Messwertkurven der Kreuzsondierungen übereinanderliegen.\n",
        "Abweichungen kommen zustande, wenn der Untergrund komplizierter aufgebaut ist (keine horizontale Lagerung, dreidimensionale Einlagerungen usw.)."
      ]
    },
    {
      "cell_type": "code",
      "execution_count": null,
      "metadata": {
        "colab": {
          "base_uri": "https://localhost:8080/",
          "height": 554
        },
        "id": "Q_8ThQGnULbq",
        "outputId": "70c1eb28-5be7-4618-f010-41fce35ad2d1"
      },
      "outputs": [
        {
          "output_type": "display_data",
          "data": {
            "text/plain": [
              "<Figure size 600x600 with 1 Axes>"
            ],
            "image/png": "[encoded data removed]"
          },
          "metadata": {}
        }
      ],
      "source": [
        "fig, ax = plt.subplots(figsize=(6,6))\n",
        "ax.loglog(ab2_EW, rhoa_EW, 'rx-', label='EW')\n",
        "ax.loglog(ab2_NS, rhoa_NS, 'bx-', label='NS')\n",
        "ax.set_xlim((1.0, 100.0))\n",
        "ax.set_ylim((10.0,1000.0))\n",
        "ax.set_xlabel('AB/2 in m')\n",
        "ax.set_ylabel(r'$\\rho_s$ in $\\Omega\\cdot m$')\n",
        "ax.legend(loc='best')\n",
        "ax.grid(True, which='both')\n",
        "plt.show()"
      ]
    },
    {
      "cell_type": "markdown",
      "metadata": {
        "id": "vmMbLgJxULbr"
      },
      "source": [
        "### Modellanpassung\n",
        "\n",
        "Wir versuchen jetzt durch Probieren, die gemessene Sondierungskurve mit einer anhand eines Modells berechneten Sondierungskurve in Übereinstimmung zu bringen.\n",
        "\n",
        "Dafür tragen wir in das Array `res` die Zahlenwerte für die spezifischen elektrischen Widerstände (in $\\Omega\\cdot m$) der drei Schichten beginnend an der Erdoberfläche (vom Hangenden zum Liegenden) ein:"
      ]
    },
    {
      "cell_type": "code",
      "execution_count": null,
      "metadata": {
        "id": "a7WNDmmZULbr"
      },
      "outputs": [],
      "source": [
        "res = [180.0, 100.0, 300.0]"
      ]
    },
    {
      "cell_type": "markdown",
      "metadata": {
        "id": "9it7qHbMULbr"
      },
      "source": [
        "Die Zahlenwerte der Mächtigkeiten dieser Schichten (in m) fassen wir im Array `thk` zusammen. Beachten Sie, dass die Mächtigkeit der letzten Schicht (des Substratums) nach unten hin unbegrenzt ist und daher in `thk` weggelassen wird."
      ]
    },
    {
      "cell_type": "code",
      "execution_count": null,
      "metadata": {
        "id": "NPFoDrZdULbr"
      },
      "outputs": [],
      "source": [
        "thk = [1.5, 5.5]"
      ]
    },
    {
      "cell_type": "markdown",
      "metadata": {
        "id": "ygmI7oGTULbr"
      },
      "source": [
        "Die Funktion `datenberechnen` berechnet die scheinbaren spezifischen Widerstände, die wir bei einer Messung über einem Dreischichtfall mit den spezifischen Widerständen und Mächtigkeiten für die vorgegebenen Stromelektrodenabstände erhalten würden:"
      ]
    },
    {
      "cell_type": "code",
      "execution_count": null,
      "metadata": {
        "id": "hPTWd9b4ULbr"
      },
      "outputs": [],
      "source": [
        "ab2 = ab2_NS\n",
        "mn2 = mn2_NS\n",
        "rhoa = rhoa_NS\n",
        "ves, rhoanew, err = datenberechnen(ab2, mn2, res, thk)"
      ]
    },
    {
      "cell_type": "markdown",
      "metadata": {
        "id": "aq6WCcqNULbs"
      },
      "source": [
        "Die so erhaltenen Ergebnisse (*Modellantwort*) `rhoanew` stellen wir gemeinsam mit den Messwerten (*Daten*) `rhoa` grafisch in Abhängigkeit vom Elektrodenabstand AB/2 `ab2` dar."
      ]
    },
    {
      "cell_type": "code",
      "execution_count": null,
      "metadata": {
        "colab": {
          "base_uri": "https://localhost:8080/",
          "height": 554
        },
        "id": "9RHw9KPNULbs",
        "outputId": "7d105e84-8552-473e-b524-3f87f7e90e20"
      },
      "outputs": [
        {
          "output_type": "display_data",
          "data": {
            "text/plain": [
              "<Figure size 600x600 with 1 Axes>"
            ],
            "image/png": "[encoded data removed]"
          },
          "metadata": {}
        }
      ],
      "source": [
        "datenvergleichen(rhoa, rhoanew, ab2)"
      ]
    },
    {
      "cell_type": "markdown",
      "metadata": {
        "id": "ILasXAvUULbs"
      },
      "source": [
        "Da wir eine möglichst gute Übereinstimmung beider Kurven anstreben, ist es u.U. nötig, zur Definition von `res` und `thk` zurückzukehren, um die Rechnung mit veränderten Werten zu wiederholen.\n",
        "\n",
        "Notieren Sie die Werte von `res` und `thk`, wenn Sie zufrieden sind mit der Anpassung."
      ]
    },
    {
      "cell_type": "code",
      "execution_count": null,
      "metadata": {
        "id": "sLWF_b30ULbs"
      },
      "outputs": [],
      "source": [
        "resbest = res\n",
        "thkbest = thk"
      ]
    },
    {
      "cell_type": "markdown",
      "metadata": {
        "id": "Agh15pidULbs"
      },
      "source": [
        "### Automatische Modellfindung\n",
        "Für eine automatische Ermittlung der spezifischen Widerstände `res` und Mächtigkeiten `thk` wird das Verfahren der geophysikalischen Dateninversion eingesetzt.\n",
        "\n",
        "Dabei wird ein aus den Messwerten erzeugtes Startmodell mit `nl` Schichten systematisch verändert, bis dessen Modellantwort mit den gemessenen Daten bis auf eine vorgegebene Abweichung `errPerc` übereinstimmt.\n",
        "Der Parameter `lam` steuert, wie groß die Sprünge zwischen den spezifischen Widerständen der einzelnen Schichten sein dürfen."
      ]
    },
    {
      "cell_type": "code",
      "execution_count": null,
      "metadata": {
        "colab": {
          "base_uri": "https://localhost:8080/"
        },
        "id": "E0cLqm3DULbs",
        "outputId": "f9869bbc-cc83-4fd3-a90e-0770cc03f558"
      },
      "outputs": [
        {
          "output_type": "stream",
          "name": "stderr",
          "text": [
            "WARNING:pyGIMLi:No data error given, set Fallback set to 1%\n",
            "04/09/24 - 15:00:31 - pyGIMLi - \u001b[0;33;49mWARNING\u001b[0m - No data error given, set Fallback set to 1%\n"
          ]
        }
      ],
      "source": [
        "nl = 3\n",
        "lam = 500.0\n",
        "errPerc = 10.0\n",
        "\n",
        "resnew, thknew, rhoaresponse, relrms, chi2 = dateninversion(ab2, mn2, rhoa, nl, lam, errPerc)"
      ]
    },
    {
      "cell_type": "code",
      "execution_count": null,
      "metadata": {
        "colab": {
          "base_uri": "https://localhost:8080/",
          "height": 436
        },
        "id": "pv5gPV7xULbs",
        "outputId": "2e5c914d-400e-4a22-8adb-0dc9426a4375"
      },
      "outputs": [
        {
          "output_type": "display_data",
          "data": {
            "text/plain": [
              "<Figure size 1400x600 with 2 Axes>"
            ],
            "image/png": "[encoded data removed]"
          },
          "metadata": {}
        }
      ],
      "source": [
        "plotresults(resnew, thknew, ab2, rhoa, rhoaresponse)"
      ]
    },
    {
      "cell_type": "markdown",
      "metadata": {
        "id": "OF39KVn_ULbt"
      },
      "source": [
        "## Zusammenfassung der Resultate\n",
        "### Spezifische elektrische Widerstände"
      ]
    },
    {
      "cell_type": "code",
      "execution_count": null,
      "metadata": {
        "colab": {
          "base_uri": "https://localhost:8080/"
        },
        "id": "PFIobGs3ULbt",
        "outputId": "568db1e1-f1e0-4e5a-da79-4b00bd6cc5a2"
      },
      "outputs": [
        {
          "output_type": "stream",
          "name": "stdout",
          "text": [
            "Spezifische elektrische Widerstände in Ohm*m:\n",
            "  108.47\n",
            "  295.64\n",
            "    4.49\n",
            "    5.09\n",
            "    7.40\n",
            "    7.32\n"
          ]
        }
      ],
      "source": [
        "print(\"Spezifische elektrische Widerstände in Ohm*m:\")\n",
        "for r in resnew:\n",
        "    print(f'{r:8.2f}')"
      ]
    },
    {
      "cell_type": "markdown",
      "metadata": {
        "id": "nUiKN_APULbt"
      },
      "source": [
        "### Mächtigkeiten"
      ]
    },
    {
      "cell_type": "code",
      "execution_count": null,
      "metadata": {
        "colab": {
          "base_uri": "https://localhost:8080/"
        },
        "id": "zcN_vkrfULbt",
        "outputId": "41f529d2-7831-449e-c962-e7ae21f5ab54"
      },
      "outputs": [
        {
          "output_type": "stream",
          "name": "stdout",
          "text": [
            "Schichtmächtigkeiten in m:\n",
            "    6.66\n",
            "    4.15\n",
            "    9.98\n",
            "   10.08\n",
            "   10.00\n"
          ]
        }
      ],
      "source": [
        "print(\"Schichtmächtigkeiten in m:\")\n",
        "for t in thknew:\n",
        "    print(f'{t:8.2f}')"
      ]
    },
    {
      "cell_type": "markdown",
      "metadata": {
        "id": "FDvMAEMHULbt"
      },
      "source": [
        "### Bewertung der Anpassug\n",
        "Die Güte der Anpassung wird durch die Summe der Quadrate der Differenzen zwischen den gemessenen und synthetischen Werten der Sondierungskurve bestimmt.\n",
        "\n",
        "Wir unterscheiden zwischen *relativem RMS-Fehler* und $\\chi^2$-*Fehler*."
      ]
    },
    {
      "cell_type": "code",
      "execution_count": null,
      "metadata": {
        "colab": {
          "base_uri": "https://localhost:8080/"
        },
        "id": "C4zUetz5ULbt",
        "outputId": "d0018293-62f6-42b9-a191-e04f4b13aae3"
      },
      "outputs": [
        {
          "output_type": "stream",
          "name": "stdout",
          "text": [
            "Relativer RMS-Fehler =  9.73\n",
            "chi^2-Fehler         =  96.43\n"
          ]
        }
      ],
      "source": [
        "print(\"Relativer RMS-Fehler = \", f'{relrms:.2f}')\n",
        "print(\"chi^2-Fehler         = \", f'{chi2:.2f}')"
      ]
    },
    {
      "cell_type": "markdown",
      "metadata": {
        "id": "mXJmFTZBULbt"
      },
      "source": [
        "## Weiterführende Analyse\n",
        "### Schichtäquivalenz\n",
        "Bei der manuellen bzw. automatischen Anpassung erhalten wir für die zweite Schicht folgende Werte für den spezifischen Widerstand und die Schichtmächtigkeit:"
      ]
    },
    {
      "cell_type": "code",
      "execution_count": null,
      "metadata": {
        "colab": {
          "base_uri": "https://localhost:8080/"
        },
        "id": "yyo_kBx3ULbu",
        "outputId": "d2c42244-ec0b-4f32-c5a8-093c83b24edc"
      },
      "outputs": [
        {
          "output_type": "stream",
          "name": "stdout",
          "text": [
            "Manuelle Anpassung:\n",
            "Spezifischer Widerstand der zweiten Schicht:  100.00 Ohm*m\n",
            "Mächtigkeit der zweiten Schicht            :    5.50 m\n",
            "Automatische Anpassung:\n",
            "Spezifischer Widerstand der zweiten Schicht:  295.64 Ohm*m\n",
            "Mächtigkeit der zweiten Schicht            :    4.15 m\n"
          ]
        }
      ],
      "source": [
        "print(\"Manuelle Anpassung:\")\n",
        "print(\"Spezifischer Widerstand der zweiten Schicht:\" + f'{resbest[1]:8.2f}' + \" Ohm*m\")\n",
        "print(\"Mächtigkeit der zweiten Schicht            :\" + f'{thkbest[1]:8.2f}' + \" m\")\n",
        "print(\"Automatische Anpassung:\")\n",
        "print(\"Spezifischer Widerstand der zweiten Schicht:\" + f'{resnew[1]:8.2f}' + \" Ohm*m\")\n",
        "print(\"Mächtigkeit der zweiten Schicht            :\" + f'{thknew[1]:8.2f}' + \" m\")"
      ]
    },
    {
      "cell_type": "markdown",
      "metadata": {
        "id": "6xNcaYNYULbu"
      },
      "source": [
        "Für eine dünne Schicht mit Mächtigkeit $h$ und niedrigem Widerstand $\\rho$, die in einer Formation mit hohem spezifischen Widerstand eingebettet ist, gilt die Schichtäquivalenz. Dies bedeutet, dass die gesamte Sondierungskurve nahezu unverändert bleibt, sofern das Verhältnis\n",
        "$$\n",
        "S_i = \\frac{h_i}{\\rho_i} = const.\n",
        "$$\n",
        "gleich bleibt.\n",
        "Die Größe $S_i$ wird Längsleitfähigkeit der Schicht $i$ genannt.\n",
        "Ihre physikalische Einheit ist *Siemens*.\n",
        "Die Längsleitfähigkeit ist die einzige Information über die zweite Schicht, die bei der vorliegenden geoelektrischen Widerstandstiefensondierungen sicher bestimmt werden kann.\n",
        "Eine unabhängige Bestimmung von spezifischem Widerstand oder Mächtigkeit der zweiten Schicht ist dagegen nicht möglich.\n",
        "Man spricht vom *Äquivalenzprinzip der Geoelektrik*."
      ]
    },
    {
      "cell_type": "code",
      "execution_count": null,
      "metadata": {
        "colab": {
          "base_uri": "https://localhost:8080/"
        },
        "id": "Sg9kaB7iULby",
        "outputId": "8b10510a-5015-4fcb-f542-36a48fb57da4"
      },
      "outputs": [
        {
          "output_type": "stream",
          "name": "stdout",
          "text": [
            "Manuelle Anpassung:\n",
            "Längsleitfähigkeit der zweiten Schicht:    0.06 S\n",
            "Automatische Anpassung:\n",
            "Längsleitfähigkeit der zweiten Schicht:    0.01 S\n"
          ]
        }
      ],
      "source": [
        "print(\"Manuelle Anpassung:\")\n",
        "print(\"Längsleitfähigkeit der zweiten Schicht:\" + f'{thkbest[1]/resbest[1]:8.2f}' + \" S\")\n",
        "print(\"Automatische Anpassung:\")\n",
        "print(\"Längsleitfähigkeit der zweiten Schicht:\" + f'{thknew[1]/resnew[1]:8.2f}' + \" S\")"
      ]
    }
  ],
  "metadata": {
    "@webio": {
      "lastCommId": null,
      "lastKernelId": null
    },
    "kernelspec": {
      "display_name": "pg15",
      "language": "python",
      "name": "python3"
    },
    "language_info": {
      "codemirror_mode": {
        "name": "ipython",
        "version": 3
      },
      "file_extension": ".py",
      "mimetype": "text/x-python",
      "name": "python",
      "nbconvert_exporter": "python",
      "pygments_lexer": "ipython3",
      "version": "3.11.8"
    },
    "latex_envs": {
      "LaTeX_envs_menu_present": true,
      "autoclose": true,
      "autocomplete": true,
      "bibliofile": "biblio.bib",
      "cite_by": "apalike",
      "current_citInitial": 1,
      "eqLabelWithNumbers": true,
      "eqNumInitial": 1,
      "hotkeys": {
        "equation": "Ctrl-E",
        "itemize": "Ctrl-I"
      },
      "labels_anchors": false,
      "latex_user_defs": false,
      "report_style_numbering": false,
      "user_envs_cfg": false
    },
    "colab": {
      "provenance": []
    }
  },
  "nbformat": 4,
  "nbformat_minor": 0
}
