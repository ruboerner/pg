{
 "cells": [
  {
   "cell_type": "markdown",
   "metadata": {},
   "source": [
    "# Auswertung einer Widerstandstiefensondierung\n",
    "## Grundlagen der Methode\n",
    "\n",
    "Bei einer Widerstandstiefensondierung werden scheinbare spezifische elektrische Widerstände $\\rho_s$ aufgezeichnet.\n",
    "Dabei wird der Abstand der Stromelektroden A ud B unter Beibehaltung des Mittelpunktes der Anordnung schrittweise vergrößert.\n",
    "Ist der Abstand zwischen den Potentialsonden M und N immer kleiner als AB/3, sprechen wir von einer *Schlumbergeranordnung*.\n",
    "\n",
    "Die Geoelektrik-Apparatur misst dabei elektrische Spannungen zwischen den Sonden M und N sowie den zwischen den Elektroden A und B fließenden elektrischen Strom.\n",
    "Daraus wird mit der Beziehung\n",
    "$$\n",
    "R = \\frac{U}{I}\n",
    "$$\n",
    "zunächst der Ohmsche Widerstand ermittelt.\n",
    "Dieser wird mit dem Konfigurationsfaktor $k = f(AB/2)$ multipliziert.\n",
    "Wir erhalten auf diese Weise den scheinbaren spezifischen elektrischen Widerstand\n",
    "$$\n",
    "\\rho_s = R \\cdot k.\n",
    "$$"
   ]
  },
  {
   "cell_type": "markdown",
   "metadata": {},
   "source": [
    "## Auswertung\n",
    "Das Ziel der Auswertung besteht in der Ermittlung der *spezifischen Widerstände* und *Mächtigkeiten* von Bodenschichten unter der Annahme einer näherungsweise horizontalen Lagerung.\n",
    "Die Messwerte werden zunächst graphisch als *Sondierungskurve* $\\rho_s = f(AB/2)$ dargestellt.\n",
    "Aus dem Kurvenverlauf schätzt man die minimale Anzahl von Schichten ab.\n",
    "\n",
    "Das folgende Beispiel zeigt eine Sondierungskurve, zu deren Interpretation ein Dreischichtfall hinreichend ist."
   ]
  },
  {
   "cell_type": "markdown",
   "metadata": {},
   "source": [
    "![Sondierungskurve](soundingcurve.png)"
   ]
  },
  {
   "cell_type": "markdown",
   "metadata": {},
   "source": [
    "Für die Auswertung benutzen wir die Python-Bibliothek pygimli ([www.pygimli.org](http://www.pygimli.org)).\n",
    "\n",
    "Dazu importieren wir das Modul `functions`."
   ]
  },
  {
   "cell_type": "code",
   "execution_count": 1,
   "metadata": {},
   "outputs": [],
   "source": [
    "from functions import *"
   ]
  },
  {
   "cell_type": "markdown",
   "metadata": {},
   "source": [
    "Die Daten wurden für logarithmisch äquidistante Positionen der Stromelektroden aufgenommen.\n",
    "Wir fassen die Messwerte in einer Tabelle zusammen:\n",
    "\n",
    "| AB/2 in m | $\\rho_s$ in $\\Omega\\cdot m$ |\n",
    "|-------------|-----------------------------|\n",
    "| 1.0 | 195.07 |\n",
    " |1.3   | 197.25 |\n",
    " |1.8  | 186.88 |\n",
    " |2.4   | 162.47 |\n",
    " |3.2   | 127.12 |\n",
    " |4.2   | 89.57 |\n",
    " |5.6   | 55.84 |\n",
    " |7.5   | 33.14 |\n",
    " |10.0   | 29.21 |\n",
    " |13.0   | 31.63 |\n",
    " |18.0   | 42.90 |\n",
    " |24.0   | 57.91 |\n",
    " |32.0   | 72.59 |\n",
    " |42.0   | 96.33 |\n",
    " |56.0   | 121.64 |\n",
    " |75.0   | 168.55 |\n",
    " |100.0   | 204.98 |\n",
    " \n",
    "Der Abstand der Potentialsonden betrug 0.3 m.\n",
    "\n",
    "Die Werte fassen wir in den *Python*-Arrays `ab2`, `mn2` und `rhos` zusammen:"
   ]
  },
  {
   "cell_type": "code",
   "execution_count": 2,
   "metadata": {},
   "outputs": [],
   "source": [
    "ab2 = np.array([1.0, 1.3, 1.8, 2.4, 3.2, 4.2, 5.6, 7.5, 10, 13, 18, 24, 32, 42, 56, 75, 100])\n",
    "mn2 = 0.3 * np.ones(len(ab2))"
   ]
  },
  {
   "cell_type": "code",
   "execution_count": 3,
   "metadata": {},
   "outputs": [],
   "source": [
    "rhoa = np.array([195.07, 197.25, 186.88, 162.47, 127.12, 89.57,\n",
    " 55.84, 33.14, 29.21, 31.63, 42.90, 57.91, 72.59, 96.33, 121.64,\n",
    " 168.55, 204.98])"
   ]
  },
  {
   "cell_type": "markdown",
   "metadata": {},
   "source": [
    "### Modellanpassung\n",
    "\n",
    "Wir versuchen jetzt durch Probieren, die gemessene Sondierungskurve mit einer synthetischen Sondierungskurve in Übereinstimmung zu bringen.\n",
    "\n",
    "Dafür tragen wir in das Array `res` die Werte für die spezifischen elektrischen Widerstände der drei Schichten an der Erdoberfläche beginnend ein:"
   ]
  },
  {
   "cell_type": "code",
   "execution_count": 11,
   "metadata": {},
   "outputs": [],
   "source": [
    "res = [100.0, 50.0, 2000.0]"
   ]
  },
  {
   "cell_type": "markdown",
   "metadata": {},
   "source": [
    "Die Mächtigkeiten dieser Schichten fassen wir im Array `thk` zusammen. Beachten sie, dass die Mächtigkeit der letzten Schicht (des Substratums) unendlich ist und daher in `thk` weggelassen wird."
   ]
  },
  {
   "cell_type": "code",
   "execution_count": 12,
   "metadata": {},
   "outputs": [],
   "source": [
    "thk = [2.0, 4.0]"
   ]
  },
  {
   "cell_type": "markdown",
   "metadata": {},
   "source": [
    "Die Funktion `datenberechnen` berechnet die scheinbaren spezifischen Widerstände, die wir bei einer Messung über einem Dreischichtfall mit den spezifischen Widerständen und Mächtigkeiten für die vorgegebenen Stromelektrodenabstände erhalten würden:"
   ]
  },
  {
   "cell_type": "code",
   "execution_count": 13,
   "metadata": {},
   "outputs": [],
   "source": [
    "rhoanew = datenberechnen(ab2, mn2, res, thk, 0.0)"
   ]
  },
  {
   "cell_type": "markdown",
   "metadata": {},
   "source": [
    "Die so erhaltenen Werte stellen wir gemeinsam mit den Messwerten grafisch dar:"
   ]
  },
  {
   "cell_type": "code",
   "execution_count": 14,
   "metadata": {},
   "outputs": [
    {
     "data": {
      "image/png": "[encoded data removed]",
      "text/plain": [
       "<Figure size 432x432 with 1 Axes>"
      ]
     },
     "metadata": {
      "needs_background": "light"
     },
     "output_type": "display_data"
    }
   ],
   "source": [
    "datenvergleichen(rhoa, rhoanew, ab2)"
   ]
  },
  {
   "cell_type": "markdown",
   "metadata": {},
   "source": [
    "Da wir eine möglichst gute Übereinstimmung beider Kurven anstreben, ist es u.U. nötig, zur Definition von `res` und `thk` zurückzukehren, um die Rechnung mit veränderten Werten zu wiederholen.\n",
    "\n",
    "Notieren Sie die Werte von `res` und `thk`, wenn Sie zufrieden sind mit der Anpassung."
   ]
  },
  {
   "cell_type": "markdown",
   "metadata": {},
   "source": [
    "### Automatische Modellfindung\n",
    "Für eine automatische Ermittlung der spezifischen Widerstände `res` und Mächtigkeiten `thk` wird das Verfahren der geophysikalischen Dateninversion eingesetzt.\n",
    "\n",
    "Dabei wird ein aus den Messwerten erzeugtes Startmodell mit `nl` Schichten systematisch verändert, bis dessen Modellantwort mit den gemessenen Daten bis auf eine vorgegebene Diskrepanz `errPerc` übereinstimmt.\n",
    "Der Parameter `lam` steuert, wie groß die Sprünge zwischen den spezifischen Widerständen der einzelnen Schichten sein dürfen. "
   ]
  },
  {
   "cell_type": "code",
   "execution_count": 32,
   "metadata": {},
   "outputs": [],
   "source": [
    "nl = 3\n",
    "lam = 100.0\n",
    "errPerc = 3.0\n",
    "resnew, thknew, rhoaresponse, relrms, chi2 = dateninversion(ab2, mn2, rhoa, nl, lam, errPerc)"
   ]
  },
  {
   "cell_type": "code",
   "execution_count": 33,
   "metadata": {},
   "outputs": [
    {
     "data": {
      "image/png": "[encoded data removed]",
      "text/plain": [
       "<Figure size 1008x432 with 2 Axes>"
      ]
     },
     "metadata": {
      "needs_background": "light"
     },
     "output_type": "display_data"
    }
   ],
   "source": [
    "plotresults(resnew, thknew, ab2, rhoa, rhoaresponse)"
   ]
  },
  {
   "cell_type": "markdown",
   "metadata": {},
   "source": [
    "## Zusammenfassung der Resultate\n",
    "### Spezifische elektrische Widerstände"
   ]
  },
  {
   "cell_type": "code",
   "execution_count": 45,
   "metadata": {},
   "outputs": [
    {
     "name": "stdout",
     "output_type": "stream",
     "text": [
      "Spezifische elektrische Widerstände in Ohm*m:\n",
      "  206.02\n",
      "   13.29\n",
      " 1127.81\n"
     ]
    }
   ],
   "source": [
    "print(\"Spezifische elektrische Widerstände in Ohm*m:\")\n",
    "for r in resnew:\n",
    "    print(f'{r:8.2f}')"
   ]
  },
  {
   "cell_type": "markdown",
   "metadata": {},
   "source": [
    "### Mächtigkeiten"
   ]
  },
  {
   "cell_type": "code",
   "execution_count": 46,
   "metadata": {},
   "outputs": [
    {
     "name": "stdout",
     "output_type": "stream",
     "text": [
      "Schichtmächtigkeiten in m:\n",
      "    1.93\n",
      "    5.24\n"
     ]
    }
   ],
   "source": [
    "print(\"Schichtmächtigkeiten in m:\")\n",
    "for t in thknew:\n",
    "    print(f'{t:8.2f}')"
   ]
  },
  {
   "cell_type": "markdown",
   "metadata": {},
   "source": [
    "### Bewertung der Anpassug\n",
    "Die Güte der Anpassung wird durch die Summe der Quadrate der Differenzen zwischen den gemessenen und synthetischen Werten der Sondierungskurve bestimmt.\n",
    "\n",
    "Wir unterscheiden zwischen *relativem RMS-Fehler* und $\\chi^2$-*Fehler*."
   ]
  },
  {
   "cell_type": "code",
   "execution_count": 42,
   "metadata": {},
   "outputs": [
    {
     "name": "stdout",
     "output_type": "stream",
     "text": [
      "Relativer RMS-Fehler =  2.04\n",
      "chi^2-Fehler         =  0.47\n"
     ]
    }
   ],
   "source": [
    "print(\"Relativer RMS-Fehler = \", f'{relrms:.2f}')\n",
    "print(\"chi^2-Fehler         = \", f'{chi2:.2f}')"
   ]
  },
  {
   "cell_type": "code",
   "execution_count": null,
   "metadata": {},
   "outputs": [],
   "source": []
  }
 ],
 "metadata": {
  "@webio": {
   "lastCommId": null,
   "lastKernelId": null
  },
  "kernelspec": {
   "display_name": "Python [conda env:pg]",
   "language": "python",
   "name": "conda-env-pg-py"
  },
  "language_info": {
   "codemirror_mode": {
    "name": "ipython",
    "version": 3
   },
   "file_extension": ".py",
   "mimetype": "text/x-python",
   "name": "python",
   "nbconvert_exporter": "python",
   "pygments_lexer": "ipython3",
   "version": "3.7.6"
  }
 },
 "nbformat": 4,
 "nbformat_minor": 4
}
